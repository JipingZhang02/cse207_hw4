{
 "cells": [
  {
   "cell_type": "code",
   "execution_count": 2,
   "metadata": {},
   "outputs": [
    {
     "name": "stdout",
     "output_type": "stream",
     "text": [
      "abc\u0000123\n"
     ]
    }
   ],
   "source": [
    "print(\"abc\"+\"\\0\"+\"123\")"
   ]
  },
  {
   "cell_type": "code",
   "execution_count": 3,
   "metadata": {},
   "outputs": [
    {
     "data": {
      "text/plain": [
       "b'\\x00\\x00\\x00\\x00\\x00\\x00\\x00@'"
      ]
     },
     "execution_count": 3,
     "metadata": {},
     "output_type": "execute_result"
    }
   ],
   "source": [
    "import struct\n",
    "message_bit_length=64\n",
    "struct.pack(b'>Q', message_bit_length)"
   ]
  },
  {
   "cell_type": "code",
   "execution_count": 4,
   "metadata": {},
   "outputs": [],
   "source": [
    "url = \"https://cse207b.nh.cryptanalysis.fun/hw4/api?token=17001485f42284b8c6775983fe83eaa1651e0d54&user=admin&get_file=kitten.jpg\""
   ]
  },
  {
   "cell_type": "code",
   "execution_count": 5,
   "metadata": {},
   "outputs": [],
   "source": [
    "question_mark_i = url.find('?')\n",
    "url_without_param = url[:question_mark_i]\n",
    "param_str = url[question_mark_i+1:]\n",
    "first_and_i = param_str.find(\"&\")\n",
    "token_param_str = param_str[:first_and_i]\n",
    "rest_of_q_str = param_str[first_and_i+1:]\n",
    "assert token_param_str.startswith(\"token=\")\n",
    "\n",
    "token_hex_str = token_param_str[6:]\n",
    "hash_hidden_states=[0]*5\n",
    "for i in range(len(hash_hidden_states)):\n",
    "    hash_hidden_states[i] = int(token_hex_str[8*i:8*i+8],16)"
   ]
  },
  {
   "cell_type": "code",
   "execution_count": 6,
   "metadata": {},
   "outputs": [
    {
     "data": {
      "text/plain": [
       "385881221"
      ]
     },
     "execution_count": 6,
     "metadata": {},
     "output_type": "execute_result"
    }
   ],
   "source": [
    "hash_hidden_states[0]"
   ]
  },
  {
   "cell_type": "code",
   "execution_count": 7,
   "metadata": {},
   "outputs": [],
   "source": [
    "import sha1"
   ]
  },
  {
   "cell_type": "code",
   "execution_count": 8,
   "metadata": {},
   "outputs": [],
   "source": [
    "key_byte_cnt=12"
   ]
  },
  {
   "cell_type": "code",
   "execution_count": 9,
   "metadata": {},
   "outputs": [],
   "source": [
    "key_and_q_str = \"1\"*key_byte_cnt+rest_of_q_str"
   ]
  },
  {
   "cell_type": "code",
   "execution_count": 10,
   "metadata": {},
   "outputs": [],
   "source": [
    "hash_output,processed_chunks=sha1.mal1(key_and_q_str.encode(encoding=\"ascii\"))"
   ]
  },
  {
   "cell_type": "code",
   "execution_count": 11,
   "metadata": {},
   "outputs": [],
   "source": [
    "def to_url_char(byte_value:int)->str:\n",
    "    try_result = chr(byte_value)\n",
    "    if try_result in \"ABCDEFGHIJKLMNOPQRSTUVWXYZabcdefghijklmnopqrstuvwxyz0123456789-._~:/?#[]@!$&'()*+,;=\":\n",
    "        return try_result\n",
    "    return \"%\"+(\"%02x\"%byte_value)"
   ]
  },
  {
   "cell_type": "code",
   "execution_count": 22,
   "metadata": {},
   "outputs": [
    {
     "data": {
      "text/plain": [
       "[b'111111111111user=admin&get_file=kitten.jpg\\x80\\x00\\x00\\x00\\x00\\x00\\x00\\x00\\x00\\x00\\x00\\x00\\x00\\x00\\x00\\x00\\x00\\x00\\x00\\x00\\x01P']"
      ]
     },
     "execution_count": 22,
     "metadata": {},
     "output_type": "execute_result"
    }
   ],
   "source": [
    "processed_chunks"
   ]
  },
  {
   "cell_type": "code",
   "execution_count": 13,
   "metadata": {},
   "outputs": [
    {
     "name": "stdout",
     "output_type": "stream",
     "text": [
      "64\n"
     ]
    }
   ],
   "source": [
    "param_str_constructed=\"\"\n",
    "for p_chunk in processed_chunks:\n",
    "    print(len(p_chunk))"
   ]
  },
  {
   "cell_type": "code",
   "execution_count": 19,
   "metadata": {},
   "outputs": [],
   "source": [
    "param_string_to_append = \"&get_file=hw4.pdf\"\n",
    "p_str_to_append_bytes = param_string_to_append.encode(\"ascii\")\n",
    "last_chunk = p_str_to_append_bytes\n",
    "total_size_in_byte = 64*len(processed_chunks)+len(param_string_to_append)\n",
    "last_chunk += b'\\x80'\n",
    "last_chunk += b'\\x00' * ((56 - (total_size_in_byte + 1) % 64) % 64)\n",
    "total_size_in_bit = 8*total_size_in_byte\n",
    "last_chunk += struct.pack(b'>Q', total_size_in_bit)\n",
    "h = sha1._process_chunk(last_chunk[:64],*hash_hidden_states)\n",
    "if len(last_chunk)>64:\n",
    "    h = sha1._process_chunk(last_chunk[64:],*h)\n",
    "hash_hex_str = \"\"\n",
    "for hash_hidden_state_int64_num in h:\n",
    "    hash_hex_str+=(\"%08x\"%hash_hidden_state_int64_num)"
   ]
  },
  {
   "cell_type": "code",
   "execution_count": 30,
   "metadata": {},
   "outputs": [],
   "source": [
    "query_string_crafted = \"\"\n",
    "for p_chunk in processed_chunks:\n",
    "    for byte1 in p_chunk:\n",
    "        query_string_crafted+=to_url_char(byte1)\n",
    "query_string_crafted+=param_string_to_append\n",
    "query_string_crafted = query_string_crafted[key_byte_cnt:]"
   ]
  },
  {
   "cell_type": "code",
   "execution_count": 32,
   "metadata": {},
   "outputs": [],
   "source": [
    "res = url_without_param+\"?\"+\"token=\"+hash_hex_str+\"&\"+query_string_crafted"
   ]
  },
  {
   "cell_type": "code",
   "execution_count": 33,
   "metadata": {},
   "outputs": [
    {
     "data": {
      "text/plain": [
       "'https://cse207b.nh.cryptanalysis.fun/hw4/api?token=6d5d20c60ac0e6e37419c13ddd1ca5f0825f7bdc&user=admin&get_file=kitten.jpg%80%00%00%00%00%00%00%00%00%00%00%00%00%00%00%00%00%00%00%00%01P&get_file=hw4.pdf'"
      ]
     },
     "execution_count": 33,
     "metadata": {},
     "output_type": "execute_result"
    }
   ],
   "source": [
    "res"
   ]
  },
  {
   "cell_type": "code",
   "execution_count": null,
   "metadata": {},
   "outputs": [],
   "source": [
    "import requests\n",
    "\n",
    "play_url = \"https://cse207b.nh.cryptanalysis.fun/hw4/api?token=17001485f42284b8c6775983fe83eaa1651e0d54&user=admin&get_file=kitten.jpg\"\n",
    "response = requests.get(play_url)"
   ]
  },
  {
   "cell_type": "code",
   "execution_count": null,
   "metadata": {},
   "outputs": [
    {
     "data": {
      "text/plain": [
       "560990"
      ]
     },
     "execution_count": 39,
     "metadata": {},
     "output_type": "execute_result"
    }
   ],
   "source": [
    "len(response.content)"
   ]
  }
 ],
 "metadata": {
  "kernelspec": {
   "display_name": "Python 3",
   "language": "python",
   "name": "python3"
  },
  "language_info": {
   "codemirror_mode": {
    "name": "ipython",
    "version": 3
   },
   "file_extension": ".py",
   "mimetype": "text/x-python",
   "name": "python",
   "nbconvert_exporter": "python",
   "pygments_lexer": "ipython3",
   "version": "3.10.11"
  }
 },
 "nbformat": 4,
 "nbformat_minor": 2
}
